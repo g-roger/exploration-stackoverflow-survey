{
 "cells": [
  {
   "cell_type": "code",
   "execution_count": 50,
   "id": "02b0bc3a",
   "metadata": {},
   "outputs": [],
   "source": [
    "import numpy as np\n",
    "from matplotlib import pyplot as plt\n",
    "import seaborn as sns\n",
    "import pandas as pd\n",
    "from tqdm import tqdm\n",
    "import os"
   ]
  },
  {
   "cell_type": "markdown",
   "id": "66c77d05",
   "metadata": {},
   "source": [
    "- Who are the professionals of IT based on survey? (when we said about professional they have to work with a lot of techs as ..)\n",
    "    - Who are the professionals?\n",
    "    - What kind of technologies increase in the last 3 years (in the last 3 years about database was...)\n",
    "    - Mental Health (read article about mental health to discuss)\n"
   ]
  },
  {
   "cell_type": "code",
   "execution_count": 51,
   "id": "0f599f88",
   "metadata": {},
   "outputs": [],
   "source": [
    "pd.set_option('display.max_columns', 500)\n"
   ]
  },
  {
   "cell_type": "code",
   "execution_count": 53,
   "id": "09711ad4",
   "metadata": {},
   "outputs": [],
   "source": [
    "data_2020 = pd.read_csv(f'data/public/survey_results_public_2020.csv')\n",
    "data_2021 = pd.read_csv(f'data/public/survey_results_public_2021.csv')\n",
    "data_2022 = pd.read_csv(f'data/public/survey_results_public_2022.csv')"
   ]
  },
  {
   "cell_type": "markdown",
   "id": "6c72a06b",
   "metadata": {},
   "source": [
    "for mental health exists features interstings as job satisfaction JobSat, JobSeek (if is seeking a job), JobFactors whats is the factor to have a job. WelcomeChange"
   ]
  },
  {
   "cell_type": "code",
   "execution_count": 57,
   "id": "184252fa",
   "metadata": {},
   "outputs": [],
   "source": [
    "data_selected_2020 = data_2020[[\n",
    "    'Respondent', 'MainBranch', 'Age', 'Age1stCode', 'Country', 'DevType', 'EdLevel', 'Ethnicity', 'OpSys', 'OrgSize',\n",
    "    'Gender', 'Sexuality', 'YearsCode', 'YearsCodePro', 'WorkWeekHrs', 'JobSat', 'JobFactors', 'WelcomeChange', 'NEWJobHunt',\n",
    "    'DatabaseDesireNextYear', 'DatabaseWorkedWith', 'LanguageDesireNextYear', 'LanguageWorkedWith', 'PlatformDesireNextYear', \n",
    "    'PlatformWorkedWith']].copy()"
   ]
  },
  {
   "cell_type": "code",
   "execution_count": 58,
   "id": "48f12766",
   "metadata": {},
   "outputs": [],
   "source": [
    "data_selected_2021 = data_2021[[\n",
    "    'ResponseId', 'MainBranch', 'Age', 'Age1stCode', 'Country', 'DevType', 'EdLevel', 'Ethnicity', 'OpSys', 'OrgSize',\n",
    "    'Gender', 'Sexuality', 'YearsCode', 'YearsCodePro', 'WebframeHaveWorkedWith', 'WebframeWantToWorkWith',\n",
    "    'DatabaseWantToWorkWith', 'DatabaseHaveWorkedWith', 'LanguageWantToWorkWith', 'LanguageHaveWorkedWith', 'PlatformWantToWorkWith', \n",
    "    'PlatformHaveWorkedWith', 'MentalHealth']].copy()"
   ]
  },
  {
   "cell_type": "code",
   "execution_count": 59,
   "id": "a8c84606",
   "metadata": {},
   "outputs": [],
   "source": [
    "data_selected_2022 = data_2022[[\n",
    "    'ResponseId', 'MainBranch', 'Age', 'Country', 'DevType', 'EdLevel', 'Ethnicity', 'OpSysProfessional use', 'OrgSize',\n",
    "    'Gender', 'Sexuality', 'YearsCode', 'YearsCodePro', 'WebframeHaveWorkedWith', 'WebframeWantToWorkWith',\n",
    "    'DatabaseWantToWorkWith', 'DatabaseHaveWorkedWith', 'LanguageWantToWorkWith', 'LanguageHaveWorkedWith', 'PlatformWantToWorkWith', \n",
    "    'PlatformHaveWorkedWith', 'MentalHealth', 'RemoteWork']].copy()"
   ]
  },
  {
   "cell_type": "code",
   "execution_count": 60,
   "id": "e655b151",
   "metadata": {},
   "outputs": [],
   "source": [
    "rename_2020 = {\n",
    "    'Respondent': 'ResponseId',\n",
    "    'DatabaseDesireNextYear': 'DatabaseWantToWorkWith',\n",
    "    'DatabaseWorkedWith': 'DatabaseHaveWorkedWith',\n",
    "    'LanguageDesireNextYear': 'LanguageWantToWorkWith',\n",
    "    'LanguageWorkedWith': 'LanguageHaveWorkedWith',\n",
    "    'PlatformDesireNextYear': 'PlatformWantToWorkWith',\n",
    "    'PlatformWorkedWith': 'PlatformHaveWorkedWith'\n",
    "}"
   ]
  },
  {
   "cell_type": "code",
   "execution_count": 61,
   "id": "e8a30487",
   "metadata": {},
   "outputs": [],
   "source": [
    "data_selected_2020.rename(columns=rename_2020, inplace=True)"
   ]
  },
  {
   "cell_type": "code",
   "execution_count": 62,
   "id": "42aae033",
   "metadata": {},
   "outputs": [],
   "source": [
    "data_selected_2020['year'] = 2020\n",
    "data_selected_2021['year'] = 2021\n",
    "data_selected_2022['year'] = 2022"
   ]
  },
  {
   "cell_type": "code",
   "execution_count": 63,
   "id": "57dd2798",
   "metadata": {},
   "outputs": [],
   "source": [
    "df = pd.concat([data_selected_2020, data_selected_2021, data_selected_2022], axis=0, ignore_index=True)"
   ]
  },
  {
   "cell_type": "code",
   "execution_count": 65,
   "id": "c7593513",
   "metadata": {
    "scrolled": true
   },
   "outputs": [
    {
     "data": {
      "text/html": [
       "<div>\n",
       "<style scoped>\n",
       "    .dataframe tbody tr th:only-of-type {\n",
       "        vertical-align: middle;\n",
       "    }\n",
       "\n",
       "    .dataframe tbody tr th {\n",
       "        vertical-align: top;\n",
       "    }\n",
       "\n",
       "    .dataframe thead th {\n",
       "        text-align: right;\n",
       "    }\n",
       "</style>\n",
       "<table border=\"1\" class=\"dataframe\">\n",
       "  <thead>\n",
       "    <tr style=\"text-align: right;\">\n",
       "      <th></th>\n",
       "      <th>ResponseId</th>\n",
       "      <th>MainBranch</th>\n",
       "      <th>Age</th>\n",
       "      <th>Age1stCode</th>\n",
       "      <th>Country</th>\n",
       "      <th>DevType</th>\n",
       "      <th>EdLevel</th>\n",
       "      <th>Ethnicity</th>\n",
       "      <th>OpSys</th>\n",
       "      <th>OrgSize</th>\n",
       "      <th>Gender</th>\n",
       "      <th>Sexuality</th>\n",
       "      <th>YearsCode</th>\n",
       "      <th>YearsCodePro</th>\n",
       "      <th>WorkWeekHrs</th>\n",
       "      <th>JobSat</th>\n",
       "      <th>JobFactors</th>\n",
       "      <th>WelcomeChange</th>\n",
       "      <th>NEWJobHunt</th>\n",
       "      <th>DatabaseWantToWorkWith</th>\n",
       "      <th>DatabaseHaveWorkedWith</th>\n",
       "      <th>LanguageWantToWorkWith</th>\n",
       "      <th>LanguageHaveWorkedWith</th>\n",
       "      <th>PlatformWantToWorkWith</th>\n",
       "      <th>PlatformHaveWorkedWith</th>\n",
       "      <th>year</th>\n",
       "      <th>WebframeHaveWorkedWith</th>\n",
       "      <th>WebframeWantToWorkWith</th>\n",
       "      <th>MentalHealth</th>\n",
       "      <th>OpSysProfessional use</th>\n",
       "      <th>RemoteWork</th>\n",
       "    </tr>\n",
       "  </thead>\n",
       "  <tbody>\n",
       "    <tr>\n",
       "      <th>0</th>\n",
       "      <td>1</td>\n",
       "      <td>I am a developer by profession</td>\n",
       "      <td>NaN</td>\n",
       "      <td>13</td>\n",
       "      <td>Germany</td>\n",
       "      <td>Developer, desktop or enterprise applications;...</td>\n",
       "      <td>Master’s degree (M.A., M.S., M.Eng., MBA, etc.)</td>\n",
       "      <td>White or of European descent</td>\n",
       "      <td>Windows</td>\n",
       "      <td>2 to 9 employees</td>\n",
       "      <td>Man</td>\n",
       "      <td>Straight / Heterosexual</td>\n",
       "      <td>36</td>\n",
       "      <td>27</td>\n",
       "      <td>50.0</td>\n",
       "      <td>Slightly satisfied</td>\n",
       "      <td>Languages, frameworks, and other technologies ...</td>\n",
       "      <td>Just as welcome now as I felt last year</td>\n",
       "      <td>NaN</td>\n",
       "      <td>Microsoft SQL Server</td>\n",
       "      <td>Elasticsearch;Microsoft SQL Server;Oracle</td>\n",
       "      <td>C#;HTML/CSS;JavaScript</td>\n",
       "      <td>C#;HTML/CSS;JavaScript</td>\n",
       "      <td>Android;iOS;Kubernetes;Microsoft Azure;Windows</td>\n",
       "      <td>Windows</td>\n",
       "      <td>2020</td>\n",
       "      <td>NaN</td>\n",
       "      <td>NaN</td>\n",
       "      <td>NaN</td>\n",
       "      <td>NaN</td>\n",
       "      <td>NaN</td>\n",
       "    </tr>\n",
       "    <tr>\n",
       "      <th>64461</th>\n",
       "      <td>1</td>\n",
       "      <td>I am a developer by profession</td>\n",
       "      <td>25-34 years old</td>\n",
       "      <td>18 - 24 years</td>\n",
       "      <td>Slovakia</td>\n",
       "      <td>Developer, mobile</td>\n",
       "      <td>Secondary school (e.g. American high school, G...</td>\n",
       "      <td>White or of European descent</td>\n",
       "      <td>MacOS</td>\n",
       "      <td>20 to 99 employees</td>\n",
       "      <td>Man</td>\n",
       "      <td>Straight / Heterosexual</td>\n",
       "      <td>NaN</td>\n",
       "      <td>NaN</td>\n",
       "      <td>NaN</td>\n",
       "      <td>NaN</td>\n",
       "      <td>NaN</td>\n",
       "      <td>NaN</td>\n",
       "      <td>NaN</td>\n",
       "      <td>SQLite</td>\n",
       "      <td>PostgreSQL;SQLite</td>\n",
       "      <td>Swift</td>\n",
       "      <td>C++;HTML/CSS;JavaScript;Objective-C;PHP;Swift</td>\n",
       "      <td>NaN</td>\n",
       "      <td>NaN</td>\n",
       "      <td>2021</td>\n",
       "      <td>Laravel;Symfony</td>\n",
       "      <td>NaN</td>\n",
       "      <td>None of the above</td>\n",
       "      <td>NaN</td>\n",
       "      <td>NaN</td>\n",
       "    </tr>\n",
       "    <tr>\n",
       "      <th>147900</th>\n",
       "      <td>1</td>\n",
       "      <td>None of these</td>\n",
       "      <td>NaN</td>\n",
       "      <td>NaN</td>\n",
       "      <td>NaN</td>\n",
       "      <td>NaN</td>\n",
       "      <td>NaN</td>\n",
       "      <td>NaN</td>\n",
       "      <td>NaN</td>\n",
       "      <td>NaN</td>\n",
       "      <td>NaN</td>\n",
       "      <td>NaN</td>\n",
       "      <td>NaN</td>\n",
       "      <td>NaN</td>\n",
       "      <td>NaN</td>\n",
       "      <td>NaN</td>\n",
       "      <td>NaN</td>\n",
       "      <td>NaN</td>\n",
       "      <td>NaN</td>\n",
       "      <td>NaN</td>\n",
       "      <td>NaN</td>\n",
       "      <td>NaN</td>\n",
       "      <td>NaN</td>\n",
       "      <td>NaN</td>\n",
       "      <td>NaN</td>\n",
       "      <td>2022</td>\n",
       "      <td>NaN</td>\n",
       "      <td>NaN</td>\n",
       "      <td>NaN</td>\n",
       "      <td>NaN</td>\n",
       "      <td>NaN</td>\n",
       "    </tr>\n",
       "  </tbody>\n",
       "</table>\n",
       "</div>"
      ],
      "text/plain": [
       "        ResponseId                      MainBranch              Age  \\\n",
       "0                1  I am a developer by profession              NaN   \n",
       "64461            1  I am a developer by profession  25-34 years old   \n",
       "147900           1                   None of these              NaN   \n",
       "\n",
       "           Age1stCode   Country  \\\n",
       "0                  13   Germany   \n",
       "64461   18 - 24 years  Slovakia   \n",
       "147900            NaN       NaN   \n",
       "\n",
       "                                                  DevType  \\\n",
       "0       Developer, desktop or enterprise applications;...   \n",
       "64461                                   Developer, mobile   \n",
       "147900                                                NaN   \n",
       "\n",
       "                                                  EdLevel  \\\n",
       "0         Master’s degree (M.A., M.S., M.Eng., MBA, etc.)   \n",
       "64461   Secondary school (e.g. American high school, G...   \n",
       "147900                                                NaN   \n",
       "\n",
       "                           Ethnicity    OpSys             OrgSize Gender  \\\n",
       "0       White or of European descent  Windows    2 to 9 employees    Man   \n",
       "64461   White or of European descent    MacOS  20 to 99 employees    Man   \n",
       "147900                           NaN      NaN                 NaN    NaN   \n",
       "\n",
       "                      Sexuality YearsCode YearsCodePro  WorkWeekHrs  \\\n",
       "0       Straight / Heterosexual        36           27         50.0   \n",
       "64461   Straight / Heterosexual       NaN          NaN          NaN   \n",
       "147900                      NaN       NaN          NaN          NaN   \n",
       "\n",
       "                    JobSat                                         JobFactors  \\\n",
       "0       Slightly satisfied  Languages, frameworks, and other technologies ...   \n",
       "64461                  NaN                                                NaN   \n",
       "147900                 NaN                                                NaN   \n",
       "\n",
       "                                  WelcomeChange NEWJobHunt  \\\n",
       "0       Just as welcome now as I felt last year        NaN   \n",
       "64461                                       NaN        NaN   \n",
       "147900                                      NaN        NaN   \n",
       "\n",
       "       DatabaseWantToWorkWith                     DatabaseHaveWorkedWith  \\\n",
       "0        Microsoft SQL Server  Elasticsearch;Microsoft SQL Server;Oracle   \n",
       "64461                  SQLite                          PostgreSQL;SQLite   \n",
       "147900                    NaN                                        NaN   \n",
       "\n",
       "        LanguageWantToWorkWith                         LanguageHaveWorkedWith  \\\n",
       "0       C#;HTML/CSS;JavaScript                         C#;HTML/CSS;JavaScript   \n",
       "64461                    Swift  C++;HTML/CSS;JavaScript;Objective-C;PHP;Swift   \n",
       "147900                     NaN                                            NaN   \n",
       "\n",
       "                                PlatformWantToWorkWith PlatformHaveWorkedWith  \\\n",
       "0       Android;iOS;Kubernetes;Microsoft Azure;Windows                Windows   \n",
       "64461                                              NaN                    NaN   \n",
       "147900                                             NaN                    NaN   \n",
       "\n",
       "        year WebframeHaveWorkedWith WebframeWantToWorkWith       MentalHealth  \\\n",
       "0       2020                    NaN                    NaN                NaN   \n",
       "64461   2021        Laravel;Symfony                    NaN  None of the above   \n",
       "147900  2022                    NaN                    NaN                NaN   \n",
       "\n",
       "       OpSysProfessional use RemoteWork  \n",
       "0                        NaN        NaN  \n",
       "64461                    NaN        NaN  \n",
       "147900                   NaN        NaN  "
      ]
     },
     "execution_count": 65,
     "metadata": {},
     "output_type": "execute_result"
    }
   ],
   "source": [
    "df[df['ResponseId'] == 1]"
   ]
  },
  {
   "cell_type": "code",
   "execution_count": 66,
   "id": "ab3a0fa3",
   "metadata": {},
   "outputs": [
    {
     "data": {
      "text/plain": [
       "2021    83439\n",
       "2022    73268\n",
       "2020    64461\n",
       "Name: year, dtype: int64"
      ]
     },
     "execution_count": 66,
     "metadata": {},
     "output_type": "execute_result"
    }
   ],
   "source": [
    "df.year.value_counts()"
   ]
  },
  {
   "cell_type": "code",
   "execution_count": null,
   "id": "129cb6a1",
   "metadata": {},
   "outputs": [],
   "source": []
  },
  {
   "cell_type": "markdown",
   "id": "913a20ab",
   "metadata": {},
   "source": [
    "## Data Extraction"
   ]
  },
  {
   "cell_type": "code",
   "execution_count": 5,
   "id": "8e47d70f",
   "metadata": {},
   "outputs": [
    {
     "data": {
      "text/plain": [
       "['survey_results_public_2017.csv',\n",
       " 'survey_results_public_2018.csv',\n",
       " 'survey_results_public_2019.csv',\n",
       " 'survey_results_public_2020.csv',\n",
       " 'survey_results_public_2021.csv',\n",
       " 'survey_results_public_2022.csv']"
      ]
     },
     "execution_count": 5,
     "metadata": {},
     "output_type": "execute_result"
    }
   ],
   "source": [
    "for dataset in tqdm(os.listdir('data/public')):\n",
    "    data = pd.read_csv(f'data/public/{dataset}')"
   ]
  },
  {
   "cell_type": "code",
   "execution_count": null,
   "id": "d0a49d0c",
   "metadata": {},
   "outputs": [],
   "source": []
  },
  {
   "cell_type": "code",
   "execution_count": null,
   "id": "02745680",
   "metadata": {},
   "outputs": [],
   "source": []
  }
 ],
 "metadata": {
  "kernelspec": {
   "display_name": "Python 3",
   "language": "python",
   "name": "python3"
  },
  "language_info": {
   "codemirror_mode": {
    "name": "ipython",
    "version": 3
   },
   "file_extension": ".py",
   "mimetype": "text/x-python",
   "name": "python",
   "nbconvert_exporter": "python",
   "pygments_lexer": "ipython3",
   "version": "3.8.8"
  }
 },
 "nbformat": 4,
 "nbformat_minor": 5
}
